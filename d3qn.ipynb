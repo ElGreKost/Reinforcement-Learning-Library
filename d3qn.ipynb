{
 "cells": [
  {
   "cell_type": "markdown",
   "source": [
    "$$  Q(s, a; \\theta, \\alpha, \\beta) = V(s; \\theta, \\beta) + A(s, a; \\alpha) $$\n",
    "\n",
    "To enhance identifiability, enrich the formula to:\n",
    "\n",
    "$$Q(s, a; \\theta, \\alpha, \\beta) = V(s; \\theta, \\beta) + \\left( A(s, a; \\theta, \\alpha) - \\frac{1}{|\\mathcal{A}|} \\sum_{a'} A(s, a'; \\theta, \\alpha) \\right) $$\n",
    "\n",
    "Dueling Network architecture:\n",
    "\n",
    "![](images/d3qn.png)"
   ],
   "metadata": {
    "collapsed": false
   },
   "id": "e3dec34c90cd845b"
  },
  {
   "cell_type": "code",
   "execution_count": null,
   "outputs": [],
   "source": [
    "        "
   ],
   "metadata": {
    "collapsed": false
   },
   "id": "e4c326793944b8a4"
  },
  {
   "cell_type": "markdown",
   "source": [],
   "metadata": {
    "collapsed": false
   },
   "id": "1bd5fbe277d7b900"
  }
 ],
 "metadata": {
  "kernelspec": {
   "display_name": "Python 3",
   "language": "python",
   "name": "python3"
  },
  "language_info": {
   "codemirror_mode": {
    "name": "ipython",
    "version": 2
   },
   "file_extension": ".py",
   "mimetype": "text/x-python",
   "name": "python",
   "nbconvert_exporter": "python",
   "pygments_lexer": "ipython2",
   "version": "2.7.6"
  }
 },
 "nbformat": 4,
 "nbformat_minor": 5
}
